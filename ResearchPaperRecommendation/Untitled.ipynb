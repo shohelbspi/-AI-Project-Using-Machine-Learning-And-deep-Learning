{
 "cells": [
  {
   "cell_type": "code",
   "execution_count": 1,
   "id": "243a2406",
   "metadata": {},
   "outputs": [],
   "source": [
    "import numpy as np\n",
    "import pandas as pd"
   ]
  },
  {
   "cell_type": "markdown",
   "id": "d74eaf6e",
   "metadata": {},
   "source": [
    "### Recommendation System"
   ]
  },
  {
   "cell_type": "code",
   "execution_count": 2,
   "id": "d324b631",
   "metadata": {},
   "outputs": [],
   "source": [
    "df = pd.read_csv('dataset/arxiv_data_210930-054931.csv')"
   ]
  },
  {
   "cell_type": "code",
   "execution_count": 3,
   "id": "8e8e4bf1",
   "metadata": {},
   "outputs": [
    {
     "data": {
      "text/html": [
       "<div>\n",
       "<style scoped>\n",
       "    .dataframe tbody tr th:only-of-type {\n",
       "        vertical-align: middle;\n",
       "    }\n",
       "\n",
       "    .dataframe tbody tr th {\n",
       "        vertical-align: top;\n",
       "    }\n",
       "\n",
       "    .dataframe thead th {\n",
       "        text-align: right;\n",
       "    }\n",
       "</style>\n",
       "<table border=\"1\" class=\"dataframe\">\n",
       "  <thead>\n",
       "    <tr style=\"text-align: right;\">\n",
       "      <th></th>\n",
       "      <th>terms</th>\n",
       "      <th>titles</th>\n",
       "      <th>abstracts</th>\n",
       "    </tr>\n",
       "  </thead>\n",
       "  <tbody>\n",
       "    <tr>\n",
       "      <th>0</th>\n",
       "      <td>['cs.LG']</td>\n",
       "      <td>Multi-Level Attention Pooling for Graph Neural...</td>\n",
       "      <td>Graph neural networks (GNNs) have been widely ...</td>\n",
       "    </tr>\n",
       "    <tr>\n",
       "      <th>1</th>\n",
       "      <td>['cs.LG', 'cs.AI']</td>\n",
       "      <td>Decision Forests vs. Deep Networks: Conceptual...</td>\n",
       "      <td>Deep networks and decision forests (such as ra...</td>\n",
       "    </tr>\n",
       "  </tbody>\n",
       "</table>\n",
       "</div>"
      ],
      "text/plain": [
       "                terms                                             titles  \\\n",
       "0           ['cs.LG']  Multi-Level Attention Pooling for Graph Neural...   \n",
       "1  ['cs.LG', 'cs.AI']  Decision Forests vs. Deep Networks: Conceptual...   \n",
       "\n",
       "                                           abstracts  \n",
       "0  Graph neural networks (GNNs) have been widely ...  \n",
       "1  Deep networks and decision forests (such as ra...  "
      ]
     },
     "execution_count": 3,
     "metadata": {},
     "output_type": "execute_result"
    }
   ],
   "source": [
    "df.head(2)"
   ]
  },
  {
   "cell_type": "code",
   "execution_count": 4,
   "id": "2f3072eb",
   "metadata": {},
   "outputs": [
    {
     "data": {
      "text/plain": [
       "'Understanding and Resolving Performance Degradation in Graph Convolutional Networks'"
      ]
     },
     "execution_count": 4,
     "metadata": {},
     "output_type": "execute_result"
    }
   ],
   "source": [
    "df['titles'][7]"
   ]
  },
  {
   "cell_type": "code",
   "execution_count": 5,
   "id": "1f96153a",
   "metadata": {},
   "outputs": [],
   "source": [
    "df2 = df.copy()"
   ]
  },
  {
   "cell_type": "code",
   "execution_count": 6,
   "id": "d2572a35",
   "metadata": {},
   "outputs": [
    {
     "data": {
      "text/html": [
       "<div>\n",
       "<style scoped>\n",
       "    .dataframe tbody tr th:only-of-type {\n",
       "        vertical-align: middle;\n",
       "    }\n",
       "\n",
       "    .dataframe tbody tr th {\n",
       "        vertical-align: top;\n",
       "    }\n",
       "\n",
       "    .dataframe thead th {\n",
       "        text-align: right;\n",
       "    }\n",
       "</style>\n",
       "<table border=\"1\" class=\"dataframe\">\n",
       "  <thead>\n",
       "    <tr style=\"text-align: right;\">\n",
       "      <th></th>\n",
       "      <th>titles</th>\n",
       "    </tr>\n",
       "  </thead>\n",
       "  <tbody>\n",
       "    <tr>\n",
       "      <th>0</th>\n",
       "      <td>Multi-Level Attention Pooling for Graph Neural...</td>\n",
       "    </tr>\n",
       "    <tr>\n",
       "      <th>1</th>\n",
       "      <td>Decision Forests vs. Deep Networks: Conceptual...</td>\n",
       "    </tr>\n",
       "    <tr>\n",
       "      <th>2</th>\n",
       "      <td>Power up! Robust Graph Convolutional Network v...</td>\n",
       "    </tr>\n",
       "    <tr>\n",
       "      <th>3</th>\n",
       "      <td>Releasing Graph Neural Networks with Different...</td>\n",
       "    </tr>\n",
       "    <tr>\n",
       "      <th>4</th>\n",
       "      <td>Recurrence-Aware Long-Term Cognitive Network f...</td>\n",
       "    </tr>\n",
       "    <tr>\n",
       "      <th>...</th>\n",
       "      <td>...</td>\n",
       "    </tr>\n",
       "    <tr>\n",
       "      <th>56176</th>\n",
       "      <td>Mining Spatio-temporal Data on Industrializati...</td>\n",
       "    </tr>\n",
       "    <tr>\n",
       "      <th>56177</th>\n",
       "      <td>Wav2Letter: an End-to-End ConvNet-based Speech...</td>\n",
       "    </tr>\n",
       "    <tr>\n",
       "      <th>56178</th>\n",
       "      <td>Deep Reinforcement Learning with Double Q-lear...</td>\n",
       "    </tr>\n",
       "    <tr>\n",
       "      <th>56179</th>\n",
       "      <td>Generalized Low Rank Models</td>\n",
       "    </tr>\n",
       "    <tr>\n",
       "      <th>56180</th>\n",
       "      <td>Chi-square Tests Driven Method for Learning th...</td>\n",
       "    </tr>\n",
       "  </tbody>\n",
       "</table>\n",
       "<p>56181 rows × 1 columns</p>\n",
       "</div>"
      ],
      "text/plain": [
       "                                                  titles\n",
       "0      Multi-Level Attention Pooling for Graph Neural...\n",
       "1      Decision Forests vs. Deep Networks: Conceptual...\n",
       "2      Power up! Robust Graph Convolutional Network v...\n",
       "3      Releasing Graph Neural Networks with Different...\n",
       "4      Recurrence-Aware Long-Term Cognitive Network f...\n",
       "...                                                  ...\n",
       "56176  Mining Spatio-temporal Data on Industrializati...\n",
       "56177  Wav2Letter: an End-to-End ConvNet-based Speech...\n",
       "56178  Deep Reinforcement Learning with Double Q-lear...\n",
       "56179                        Generalized Low Rank Models\n",
       "56180  Chi-square Tests Driven Method for Learning th...\n",
       "\n",
       "[56181 rows x 1 columns]"
      ]
     },
     "execution_count": 6,
     "metadata": {},
     "output_type": "execute_result"
    }
   ],
   "source": [
    "df2.drop(columns=['terms','abstracts'])"
   ]
  },
  {
   "cell_type": "code",
   "execution_count": 8,
   "id": "5d0c4f93",
   "metadata": {},
   "outputs": [],
   "source": [
    "from sentence_transformers import SentenceTransformer, util\n"
   ]
  },
  {
   "cell_type": "code",
   "execution_count": 9,
   "id": "e39ec88f-b065-4f35-9fef-87e86ea45f17",
   "metadata": {},
   "outputs": [
    {
     "data": {
      "application/vnd.jupyter.widget-view+json": {
       "model_id": "f3b3fb0d022f4733b7425560489411cf",
       "version_major": 2,
       "version_minor": 0
      },
      "text/plain": [
       "modules.json:   0%|          | 0.00/349 [00:00<?, ?B/s]"
      ]
     },
     "metadata": {},
     "output_type": "display_data"
    },
    {
     "data": {
      "application/vnd.jupyter.widget-view+json": {
       "model_id": "d804550935fe4a74a4b3e32d16ffc730",
       "version_major": 2,
       "version_minor": 0
      },
      "text/plain": [
       "config_sentence_transformers.json:   0%|          | 0.00/116 [00:00<?, ?B/s]"
      ]
     },
     "metadata": {},
     "output_type": "display_data"
    },
    {
     "data": {
      "application/vnd.jupyter.widget-view+json": {
       "model_id": "888dbcfb4b0945459b99c90bf5210926",
       "version_major": 2,
       "version_minor": 0
      },
      "text/plain": [
       "README.md:   0%|          | 0.00/10.5k [00:00<?, ?B/s]"
      ]
     },
     "metadata": {},
     "output_type": "display_data"
    },
    {
     "data": {
      "application/vnd.jupyter.widget-view+json": {
       "model_id": "1b1e07881b884841b7b7843a31bd6d3f",
       "version_major": 2,
       "version_minor": 0
      },
      "text/plain": [
       "sentence_bert_config.json:   0%|          | 0.00/53.0 [00:00<?, ?B/s]"
      ]
     },
     "metadata": {},
     "output_type": "display_data"
    },
    {
     "data": {
      "application/vnd.jupyter.widget-view+json": {
       "model_id": "5c808aba3cfb4af393b5b9a167eae62a",
       "version_major": 2,
       "version_minor": 0
      },
      "text/plain": [
       "config.json:   0%|          | 0.00/612 [00:00<?, ?B/s]"
      ]
     },
     "metadata": {},
     "output_type": "display_data"
    },
    {
     "name": "stderr",
     "output_type": "stream",
     "text": [
      "Xet Storage is enabled for this repo, but the 'hf_xet' package is not installed. Falling back to regular HTTP download. For better performance, install the package with: `pip install huggingface_hub[hf_xet]` or `pip install hf_xet`\n"
     ]
    },
    {
     "data": {
      "application/vnd.jupyter.widget-view+json": {
       "model_id": "81db1d5902c64c5989a13e85e4d549be",
       "version_major": 2,
       "version_minor": 0
      },
      "text/plain": [
       "model.safetensors:   0%|          | 0.00/90.9M [00:00<?, ?B/s]"
      ]
     },
     "metadata": {},
     "output_type": "display_data"
    },
    {
     "data": {
      "application/vnd.jupyter.widget-view+json": {
       "model_id": "d3e4525d74884b15b8302a078bad6933",
       "version_major": 2,
       "version_minor": 0
      },
      "text/plain": [
       "tokenizer_config.json:   0%|          | 0.00/350 [00:00<?, ?B/s]"
      ]
     },
     "metadata": {},
     "output_type": "display_data"
    },
    {
     "data": {
      "application/vnd.jupyter.widget-view+json": {
       "model_id": "3c4e18a32d414cedb586ad99ea823bd5",
       "version_major": 2,
       "version_minor": 0
      },
      "text/plain": [
       "vocab.txt:   0%|          | 0.00/232k [00:00<?, ?B/s]"
      ]
     },
     "metadata": {},
     "output_type": "display_data"
    },
    {
     "data": {
      "application/vnd.jupyter.widget-view+json": {
       "model_id": "74002c5a62bb439a9d323fa4fc4fd080",
       "version_major": 2,
       "version_minor": 0
      },
      "text/plain": [
       "tokenizer.json:   0%|          | 0.00/466k [00:00<?, ?B/s]"
      ]
     },
     "metadata": {},
     "output_type": "display_data"
    },
    {
     "data": {
      "application/vnd.jupyter.widget-view+json": {
       "model_id": "235ddaaf63924287b437ef3c2413ec9f",
       "version_major": 2,
       "version_minor": 0
      },
      "text/plain": [
       "special_tokens_map.json:   0%|          | 0.00/112 [00:00<?, ?B/s]"
      ]
     },
     "metadata": {},
     "output_type": "display_data"
    },
    {
     "data": {
      "application/vnd.jupyter.widget-view+json": {
       "model_id": "0290c792b50248ef917cbed29c8e948d",
       "version_major": 2,
       "version_minor": 0
      },
      "text/plain": [
       "config.json:   0%|          | 0.00/190 [00:00<?, ?B/s]"
      ]
     },
     "metadata": {},
     "output_type": "display_data"
    }
   ],
   "source": [
    "model = SentenceTransformer('all-MiniLM-L6-v2')"
   ]
  },
  {
   "cell_type": "code",
   "execution_count": 10,
   "id": "e4f67fcc-c050-4030-b2d0-2cb4c93fc6c6",
   "metadata": {},
   "outputs": [],
   "source": [
    "sentences = df2['titles']"
   ]
  },
  {
   "cell_type": "code",
   "execution_count": 11,
   "id": "f14b0af8-6f09-46ac-b719-d139f9fb744e",
   "metadata": {},
   "outputs": [
    {
     "data": {
      "text/plain": [
       "0        Multi-Level Attention Pooling for Graph Neural...\n",
       "1        Decision Forests vs. Deep Networks: Conceptual...\n",
       "2        Power up! Robust Graph Convolutional Network v...\n",
       "3        Releasing Graph Neural Networks with Different...\n",
       "4        Recurrence-Aware Long-Term Cognitive Network f...\n",
       "                               ...                        \n",
       "56176    Mining Spatio-temporal Data on Industrializati...\n",
       "56177    Wav2Letter: an End-to-End ConvNet-based Speech...\n",
       "56178    Deep Reinforcement Learning with Double Q-lear...\n",
       "56179                          Generalized Low Rank Models\n",
       "56180    Chi-square Tests Driven Method for Learning th...\n",
       "Name: titles, Length: 56181, dtype: object"
      ]
     },
     "execution_count": 11,
     "metadata": {},
     "output_type": "execute_result"
    }
   ],
   "source": [
    "sentences"
   ]
  },
  {
   "cell_type": "code",
   "execution_count": 12,
   "id": "7f7c8657-e981-4baa-9032-57ff2d323607",
   "metadata": {},
   "outputs": [],
   "source": [
    "word_embaddings = model.encode(sentences)"
   ]
  },
  {
   "cell_type": "code",
   "execution_count": 15,
   "id": "08cd2ad5-bd79-40b3-b870-e5b0bf8580b9",
   "metadata": {},
   "outputs": [
    {
     "data": {
      "text/plain": [
       "np.float32(0.06643405)"
      ]
     },
     "execution_count": 15,
     "metadata": {},
     "output_type": "execute_result"
    }
   ],
   "source": [
    "word_embaddings[0][0]"
   ]
  },
  {
   "cell_type": "code",
   "execution_count": 18,
   "id": "0fcaafac-0cb2-4355-82f7-d0a9c646e907",
   "metadata": {},
   "outputs": [
    {
     "name": "stdout",
     "output_type": "stream",
     "text": [
      "sentence Multi-Level Attention Pooling for Graph Neural Networks: Unifying Graph Representations with Multiple Localities [ 6.64340481e-02 -4.95459773e-02  6.38808534e-02 -2.82659121e-02\n",
      "  6.94541484e-02  5.14023937e-02 -3.92372571e-02 -6.01334982e-02\n",
      " -5.88572398e-03 -4.16622385e-02  2.61420552e-02 -7.35904798e-02\n",
      " -1.88339911e-02  5.29376417e-02 -3.59026715e-02  7.48135746e-02\n",
      "  6.94931522e-02 -2.33735982e-03 -1.75370313e-02 -1.01530412e-03\n",
      "  6.97972402e-02 -5.65803647e-02  5.96184321e-02  4.10587527e-02\n",
      "  8.57779458e-02  4.63837609e-02 -5.10073379e-02 -4.05410267e-02\n",
      "  4.53708395e-02  6.67746365e-03  1.06340572e-01  6.82450235e-02\n",
      "  2.95312214e-03  6.91113174e-02 -1.53357228e-02  7.92678148e-02\n",
      " -1.49697274e-01  2.57561449e-02  3.93775515e-02  5.25156334e-02\n",
      " -5.99693740e-04  4.33895662e-02  3.59695293e-02  8.13651308e-02\n",
      "  8.18701312e-02  2.40489673e-02 -2.82293018e-02  9.89285260e-02\n",
      "  1.97786391e-02 -4.69627604e-02 -8.14746693e-03 -5.35850525e-02\n",
      " -5.72294742e-02 -6.20121732e-02  6.98969513e-02 -5.12896515e-02\n",
      " -1.64332648e-03 -2.98620388e-02 -2.96267471e-03  3.67493220e-02\n",
      " -8.13639257e-03 -6.16317708e-03 -1.38972672e-02 -2.93676052e-02\n",
      "  9.77348909e-02  9.16169118e-03 -4.51096259e-02 -1.84221864e-02\n",
      " -9.62412357e-02  4.41047214e-02  7.43707865e-02  2.92915273e-02\n",
      " -5.51119708e-02  1.45144509e-02  7.90696219e-02  8.27106610e-02\n",
      "  4.11929470e-03  2.39246637e-02 -1.44822933e-02 -7.29142874e-02\n",
      "  2.86089778e-02  1.16740568e-02  5.38570546e-02 -1.11011907e-01\n",
      "  5.29036112e-02 -3.86143057e-03 -6.11016303e-02 -2.41958592e-02\n",
      " -2.28752308e-02 -5.03507294e-02 -7.34599680e-02 -8.83998908e-03\n",
      " -2.27584708e-02 -1.51120573e-02  2.27501756e-03  1.68829598e-02\n",
      "  3.05967983e-02  1.01257153e-02 -5.07607833e-02  1.49333142e-02\n",
      " -1.21298321e-02 -5.20010702e-02  9.96909812e-02 -8.67123995e-03\n",
      "  2.31818520e-02 -1.27773043e-02 -1.41718481e-02  1.00257292e-01\n",
      " -4.98293107e-03 -5.92045449e-02  1.29223848e-02  4.03440110e-02\n",
      " -5.85013244e-04  5.00178821e-02 -3.22153941e-02 -4.42833491e-02\n",
      "  3.25556435e-02 -2.61594728e-02  3.22705209e-02  7.47852549e-02\n",
      " -8.84120613e-02  2.06267703e-02 -8.19076374e-02  9.09521803e-03\n",
      "  4.25918438e-02 -2.49457564e-02 -5.13991602e-02 -1.90265263e-34\n",
      "  6.13852553e-02 -1.81088448e-02 -8.90515978e-04  4.90804948e-02\n",
      "  2.90437657e-02  2.07040291e-02 -3.28059271e-02 -1.07997492e-01\n",
      " -2.92268507e-02  3.41326743e-02 -3.25827934e-02  2.69081146e-02\n",
      "  5.78695582e-03  4.67739515e-02 -1.54795768e-02  4.38114405e-02\n",
      "  2.63389833e-02 -9.95288417e-03  1.72705594e-02 -8.52975026e-02\n",
      " -4.34408858e-02  1.43654840e-02  4.41074744e-02 -2.36388319e-03\n",
      " -4.00791354e-02 -2.31344718e-03 -2.17755977e-03 -6.29332587e-02\n",
      " -1.78642590e-02  1.30180363e-02 -9.56284180e-02  7.10807294e-02\n",
      " -8.20531249e-02  3.68061289e-02 -2.93183196e-02 -5.12803420e-02\n",
      " -9.59499739e-03 -2.22533140e-02  7.05048069e-02 -3.91785465e-02\n",
      "  3.35415266e-02  6.80043250e-02  2.31790021e-02 -1.72555745e-02\n",
      " -2.01594736e-02 -1.85619164e-02  2.73198541e-02 -2.65120086e-03\n",
      " -4.10280488e-02 -1.49445403e-02 -4.25244607e-02 -4.22507487e-02\n",
      " -9.44600813e-03  1.84229910e-02  5.07266372e-02  7.67384795e-03\n",
      "  7.94724077e-02  8.94241035e-02  4.15594056e-02  1.46268085e-02\n",
      "  4.74886894e-02  2.53877863e-02 -4.73336577e-02  1.66159607e-02\n",
      "  3.28128859e-02 -3.82669410e-03  7.14848097e-03  4.30212170e-02\n",
      "  1.08056314e-01  1.97170656e-02 -1.56010333e-02  6.16630092e-02\n",
      " -2.07336247e-02 -2.23570857e-02 -5.13662063e-02  2.77892444e-02\n",
      " -4.68344800e-02 -4.36166897e-02 -3.94548625e-02 -8.60054232e-03\n",
      " -3.00024375e-02 -7.67552704e-02 -9.99924317e-02  3.93461771e-02\n",
      " -5.25865629e-02 -3.39340530e-02  8.12116340e-02 -5.77047467e-02\n",
      " -1.34299723e-02 -3.59990001e-02 -4.25409675e-02 -3.64826322e-02\n",
      " -5.78245288e-03 -6.82137758e-02 -4.52994695e-03  2.67936580e-34\n",
      "  7.45829102e-03  4.52786647e-02  3.90924215e-02 -2.18075309e-02\n",
      " -3.44056338e-02 -2.16439683e-02 -3.04001197e-02 -2.16143392e-02\n",
      " -1.03050925e-01  8.90535265e-02 -4.38941829e-02 -6.95107803e-02\n",
      "  5.07471198e-03 -2.49434244e-02 -4.00987105e-04  1.44571606e-02\n",
      "  7.48045975e-03  6.95052072e-02 -3.54597047e-02 -9.61216539e-03\n",
      " -5.46274558e-02  3.42542157e-02 -1.90026984e-02  2.17005257e-02\n",
      "  3.73888537e-02  5.21280393e-02 -1.14917919e-01 -5.88723272e-02\n",
      " -1.15793627e-02 -6.40512183e-02 -9.96299312e-02 -7.99096972e-02\n",
      "  1.48567548e-02  3.00951656e-02 -1.80536434e-02  3.19957882e-02\n",
      "  6.09950013e-02 -1.33172339e-02  7.21774921e-02  2.32041925e-02\n",
      "  1.80318113e-02 -3.93819809e-02 -6.24015629e-02  5.10311499e-02\n",
      " -1.96470115e-02  7.09530199e-04 -5.26889972e-02  1.66877862e-02\n",
      " -1.92687154e-01  5.09425104e-02 -8.26926455e-02 -1.09261451e-02\n",
      "  8.98394443e-04  1.29958624e-02 -8.50306451e-02 -2.64337398e-02\n",
      "  1.20040596e-01  1.27937440e-02  3.87750268e-02 -9.99860615e-02\n",
      " -4.72002849e-03 -6.55750185e-02 -2.64250636e-02 -5.27305752e-02\n",
      " -2.47324128e-02 -4.05017883e-02  2.52642278e-02 -7.99694806e-02\n",
      "  9.23155323e-02  4.29255366e-02  5.03145903e-02  2.89839637e-02\n",
      " -5.90252094e-02 -3.96492705e-02  3.86073068e-02  4.90248874e-02\n",
      "  2.59498246e-02  4.00546975e-02  2.15793424e-03 -3.61321494e-02\n",
      " -4.34714220e-02 -6.27517409e-04  9.69539769e-03  9.05139297e-02\n",
      "  7.29504526e-02  7.84263313e-02  5.32180220e-02  2.23678816e-02\n",
      "  4.17804793e-02 -1.87203344e-02 -1.31546455e-02  5.49860261e-02\n",
      " -5.26232012e-02  6.40473887e-02  2.42094118e-02 -1.79531945e-08\n",
      " -1.80887938e-01  2.81065702e-02 -4.15978059e-02  1.08797885e-02\n",
      "  1.86778996e-02 -4.97054234e-02  2.49629468e-02  1.13427326e-01\n",
      " -2.18599942e-02  1.48360625e-01  9.47289467e-02 -2.48437258e-03\n",
      "  4.30197753e-02 -4.63019274e-02  3.14162672e-02 -4.39029597e-02\n",
      "  7.66809881e-02  6.95866942e-02  7.69146904e-03  3.82213071e-02\n",
      "  2.82251108e-02 -6.77278917e-03  7.00901523e-02  6.55362234e-02\n",
      "  7.63700008e-02 -1.32476121e-01 -7.18162432e-02 -3.08656076e-04\n",
      "  5.99311804e-03 -2.30016895e-02  1.30399112e-02  3.13701071e-02\n",
      "  3.68361026e-02 -1.54540362e-02  2.20326167e-02  2.77730562e-02\n",
      " -1.57768428e-02  1.81900989e-02 -2.19865777e-02  3.09489425e-02\n",
      " -6.23957766e-03  1.66175049e-02 -1.97067093e-02  3.11124269e-02\n",
      "  2.42204759e-02  1.38863875e-02  7.81645924e-02 -2.17615031e-02\n",
      "  8.88713822e-02 -8.89820978e-02 -4.58503440e-02  1.26616489e-02\n",
      " -8.47343579e-02  3.24430503e-03 -3.93235907e-02 -1.54523989e-02\n",
      " -5.10093290e-04 -2.84008142e-02  9.84732062e-03  6.38196245e-04\n",
      "  2.63422802e-02  1.06301834e-03 -1.21563792e-01 -6.96277469e-02]\n",
      "sentence Decision Forests vs. Deep Networks: Conceptual Similarities and Empirical Differences at Small Sample Sizes [ 9.21225473e-02 -7.60693848e-02  6.57286718e-02  6.31615892e-02\n",
      "  1.57907128e-01 -6.74356818e-02 -6.02406934e-02 -4.53293435e-02\n",
      "  3.97054628e-02  5.26919737e-02 -8.74795988e-02 -2.94653066e-02\n",
      " -6.25799671e-02  2.90547335e-03 -2.82958634e-02  1.44448662e-02\n",
      "  2.49639302e-02 -1.65865514e-02 -1.18506856e-01  5.53359324e-03\n",
      " -7.75636407e-04  3.74972261e-02 -4.52698991e-02  2.63972562e-02\n",
      "  1.17788510e-02 -7.72692915e-03  1.13839135e-02  2.93635787e-03\n",
      " -2.96149570e-02 -4.46468480e-02 -1.21244332e-02  1.86026562e-02\n",
      "  5.33788837e-02 -4.24701674e-03 -8.09002742e-02  9.10542347e-03\n",
      " -3.55936326e-02  5.33573367e-02 -6.44307435e-02  5.73075078e-02\n",
      "  1.18499119e-02 -2.01596990e-02 -3.26597830e-03  2.66065495e-03\n",
      " -1.01974774e-02  6.20458201e-02 -3.27449553e-02 -7.91198574e-03\n",
      "  1.22016883e-02 -1.75120179e-02 -5.62984310e-02 -4.80496548e-02\n",
      " -6.61132932e-02 -5.65430382e-03  2.41154246e-02 -3.46810371e-02\n",
      "  1.59269162e-02  5.49603207e-03 -4.92872708e-02  6.75653517e-02\n",
      "  5.91615327e-02 -4.53540534e-02 -3.11485995e-02  1.88837387e-02\n",
      "  7.65383914e-02  6.40516281e-02 -3.45120206e-02 -2.92968974e-02\n",
      "  5.89168109e-02 -9.13724527e-02  3.13411616e-02  1.25128835e-01\n",
      " -8.35357606e-02  5.08980602e-02  3.72157283e-02 -2.04966459e-02\n",
      "  5.02665564e-02  7.68482089e-02  1.06918111e-01 -7.82710537e-02\n",
      "  1.17144287e-02  1.37898430e-01 -5.36334850e-02  3.44267935e-02\n",
      "  5.43677099e-02 -3.22701558e-02 -1.57015100e-02  4.23496664e-02\n",
      " -7.71543682e-02 -7.59233162e-02  3.12323645e-02 -9.39232111e-03\n",
      " -3.06838118e-02  2.90948693e-02 -6.27978072e-02 -2.34503970e-02\n",
      " -2.91517656e-02 -1.21330079e-02 -7.60875568e-02  1.34872664e-02\n",
      " -3.10946982e-02  1.51448427e-02  1.78694315e-02  4.63758707e-02\n",
      " -3.42305005e-02  7.82427005e-03  1.15330005e-02 -5.89360343e-03\n",
      "  8.72632191e-02 -3.85655835e-02  2.20018215e-02  6.18275143e-02\n",
      "  8.24046973e-03 -2.33930419e-04  1.51193165e-03 -2.70541459e-02\n",
      " -2.49910401e-03 -4.09572804e-03 -1.93225089e-02  7.26070032e-02\n",
      " -4.90864217e-02 -4.16032644e-03 -2.66736839e-02 -8.34109262e-02\n",
      "  3.50333489e-02  4.14138883e-02 -8.29235837e-02 -1.49174179e-35\n",
      "  2.42270692e-03 -1.93307251e-02 -1.33502409e-02  5.22821546e-02\n",
      "  1.07410893e-01 -3.89436111e-02 -9.34253819e-03 -1.23828491e-02\n",
      "  4.81916405e-03  8.11009035e-02 -8.16111788e-02  8.94584134e-02\n",
      " -1.61592069e-03  5.40132970e-02  8.34017321e-02  1.09463446e-01\n",
      " -8.29002038e-02  7.41093755e-02 -6.39461204e-02 -3.51126492e-02\n",
      "  1.53294867e-02  2.45992802e-02 -2.90922001e-02  2.84028258e-02\n",
      " -1.01757993e-03 -2.95225196e-02 -4.93907277e-03  3.30081098e-02\n",
      " -2.55215336e-02 -1.86806470e-02 -9.64439511e-02 -3.68145779e-02\n",
      "  5.92011437e-02 -4.43454459e-02  5.21533191e-02 -6.55622873e-03\n",
      "  5.25286980e-02 -7.70360045e-03 -5.03157545e-03 -9.06751528e-02\n",
      " -4.07798328e-02 -1.94318183e-02 -9.35237389e-03 -2.72279773e-02\n",
      "  2.60361307e-03  8.75714980e-03  4.47821021e-02 -2.12802403e-02\n",
      " -3.51526169e-03  3.87642086e-02 -1.85712904e-03  4.67613665e-03\n",
      " -2.16374528e-02 -3.42553407e-02  1.67254303e-02  1.02244839e-01\n",
      "  5.18140122e-02  4.09901515e-02  1.58862639e-02  5.28029576e-02\n",
      " -3.20851244e-02  2.25292854e-02 -7.93858059e-03  2.58152485e-02\n",
      "  5.50308265e-02  6.70695379e-02  3.20934132e-02  6.67307712e-03\n",
      "  5.50619029e-02  4.03547753e-03 -1.02343680e-02  4.26616706e-02\n",
      " -1.29342079e-02 -7.83689767e-02  1.03052175e-02 -4.26162034e-02\n",
      "  2.11352576e-03 -1.24835987e-02 -4.47074994e-02  2.34348979e-02\n",
      " -5.87153174e-02  3.97837311e-02 -4.76832353e-02 -4.77983207e-02\n",
      "  1.58714466e-02  3.02282535e-02  7.86176510e-03 -7.16424137e-02\n",
      "  1.37193408e-02  3.01499851e-02 -9.95523408e-02  2.66216304e-02\n",
      " -6.96258480e-03 -5.37959822e-02  6.47652224e-02 -1.34454871e-33\n",
      " -7.95092210e-02  1.03481868e-02  1.71439108e-02  1.00181118e-01\n",
      "  1.15596391e-02  5.39826192e-02 -6.15211278e-02 -1.65680349e-02\n",
      " -4.22689877e-02 -6.79731593e-02  4.80322950e-02  5.90933710e-02\n",
      " -2.33419333e-02  1.28865987e-02  2.45767329e-02 -3.46540809e-02\n",
      " -1.39825167e-02  1.67448390e-02  1.99889708e-02 -5.85295586e-03\n",
      "  2.82905102e-02  9.36067030e-02 -6.96253330e-02  7.77834607e-03\n",
      " -9.86374021e-02 -4.77998368e-02 -5.28490320e-02  4.31474671e-02\n",
      "  5.23103494e-03 -8.70258287e-02  6.75984938e-03 -5.10107428e-02\n",
      " -6.93598241e-02 -3.55076365e-04  1.05710691e-02  1.73232947e-02\n",
      "  3.83560434e-02 -7.44790882e-02 -4.53776978e-02  5.17834052e-02\n",
      " -4.73778136e-02  2.46732421e-02 -3.40915695e-02 -4.31259833e-02\n",
      " -5.70428409e-02 -4.61288020e-02 -4.39067744e-03 -1.64352357e-02\n",
      "  4.32996713e-02 -5.14254905e-03  5.97860292e-02 -9.21788067e-03\n",
      " -1.00187123e-01  5.19778505e-02 -4.92331386e-02  6.61133882e-03\n",
      "  8.85551721e-02  4.54256050e-02  6.09254427e-02  1.26904577e-01\n",
      " -9.76704210e-02 -3.62677537e-02 -1.83229726e-02 -3.92674766e-02\n",
      " -9.09372270e-02 -2.31393855e-02 -4.33803070e-03  6.46387339e-02\n",
      "  3.18455175e-02  2.12933328e-02 -5.59463212e-03 -3.93775031e-02\n",
      "  3.48158181e-02  5.66022582e-02 -7.62948170e-02 -5.69569394e-02\n",
      " -2.96265967e-02 -1.82700064e-02 -3.57533917e-02  4.03138101e-02\n",
      "  2.39910670e-02  2.79722316e-03  4.05443425e-04  6.22501895e-02\n",
      "  3.97309512e-02  1.83451667e-01  1.76291894e-02 -1.39115588e-03\n",
      " -1.54611859e-02  1.74546205e-02 -4.85644899e-02  9.73935947e-02\n",
      "  1.72361508e-02  1.08913872e-02  1.54208615e-02 -1.92239948e-08\n",
      " -4.58159521e-02  1.05564512e-01  3.41444314e-02 -3.75006981e-02\n",
      "  1.03620095e-02 -1.79134905e-02 -7.29010254e-02  1.70583561e-01\n",
      " -1.04090899e-01  9.34229642e-02  1.02657467e-01  7.46200513e-03\n",
      " -6.02605604e-02  3.06088235e-02  6.05943576e-02  6.69745952e-02\n",
      "  7.64258765e-03 -2.84249373e-02  2.26229895e-02  6.18229285e-02\n",
      "  7.10705295e-02  4.16305326e-02  2.63603590e-02  2.80543957e-02\n",
      "  6.89806715e-02 -1.36391386e-01  1.46603463e-02  8.94246772e-02\n",
      " -4.39833961e-02  2.64590122e-02 -1.37173000e-03  6.04867302e-02\n",
      " -4.26029675e-02  4.54884022e-02  5.35290241e-02 -6.47930312e-04\n",
      " -1.75815765e-02  1.51961548e-02 -4.06115800e-02 -2.68370230e-02\n",
      " -3.12581919e-02 -2.73828395e-02 -8.40556249e-03  1.16209092e-03\n",
      " -7.84648657e-02  1.85222216e-02 -8.38353299e-03 -2.89534479e-02\n",
      "  1.29074045e-02 -1.11548118e-02  1.28060216e-02 -1.70399342e-02\n",
      " -1.03261834e-02  4.50117216e-02  6.28937706e-02 -2.29764134e-02\n",
      " -8.65303352e-02 -7.98830166e-02 -6.71470836e-02 -1.75179094e-02\n",
      "  6.65012375e-02 -8.56516659e-02 -9.26654711e-02  7.25293066e-03]\n"
     ]
    }
   ],
   "source": [
    "c = 0\n",
    "for sentence,embadding in zip(sentences,word_embaddings):\n",
    "    print(\"sentence\",sentence,embadding)\n",
    "    # print('embadding',embadding)\n",
    "    if c>=1:\n",
    "        break\n",
    "    c +=1"
   ]
  },
  {
   "cell_type": "code",
   "execution_count": 19,
   "id": "540f9c71-019d-4d66-b98c-708be1af1ae6",
   "metadata": {},
   "outputs": [],
   "source": [
    "import pickle\n",
    "with open(\"word_embaddings.pkl\",'wb') as f:\n",
    "    pickle.dump(word_embaddings,f)\n",
    "\n",
    "with open(\"sentences.pkl\",'wb') as f:\n",
    "    pickle.dump(sentences,f)\n",
    "    \n",
    "with open(\"model.pkl\",'wb') as f:\n",
    "    pickle.dump(model,f)"
   ]
  },
  {
   "cell_type": "code",
   "execution_count": 23,
   "id": "08b335d8-c8e5-4d43-b91a-5726d969f1dd",
   "metadata": {},
   "outputs": [],
   "source": [
    "def predict(user_input, top_k=5):\n",
    "    # Encode user input\n",
    "    user_embedding = model.encode(user_input, convert_to_tensor=True)\n",
    "    \n",
    "    # Compute cosine similarity\n",
    "    cosine_scores = util.cos_sim(user_embedding, word_embeddings)\n",
    "    \n",
    "    # Get top_k most similar sentences\n",
    "    top_results = cosine_scores[0].topk(top_k)\n",
    "\n",
    "    results = []\n",
    "    for score, idx in zip(top_results.values, top_results.indices):\n",
    "        results.append((sentences[idx.item()], float(score)))\n",
    "    \n",
    "    return results"
   ]
  },
  {
   "cell_type": "code",
   "execution_count": 24,
   "id": "2a3776e0-c074-49b3-aee3-f98d9b68eb5a",
   "metadata": {},
   "outputs": [
    {
     "name": "stdout",
     "output_type": "stream",
     "text": [
      "Recurrent Transform Learning (Similarity: 0.6936)\n",
      "Decision Transformer: Reinforcement Learning via Sequence Modeling (Similarity: 0.6826)\n",
      "Decision Transformer: Reinforcement Learning via Sequence Modeling (Similarity: 0.6826)\n",
      "Learning Accurate Integer Transformer Machine-Translation Models (Similarity: 0.6774)\n",
      "Few-shot Sequence Learning with Transformers (Similarity: 0.6690)\n"
     ]
    }
   ],
   "source": [
    "results = predict(\"Transformer model for sequence learning\")\n",
    "\n",
    "for text, score in results:\n",
    "    print(f\"{text} (Similarity: {score:.4f})\")"
   ]
  },
  {
   "cell_type": "code",
   "execution_count": null,
   "id": "3af828e2-04c6-431c-9adf-12782e32c2da",
   "metadata": {},
   "outputs": [],
   "source": []
  }
 ],
 "metadata": {
  "kernelspec": {
   "display_name": "Python 3 (ipykernel)",
   "language": "python",
   "name": "python3"
  },
  "language_info": {
   "codemirror_mode": {
    "name": "ipython",
    "version": 3
   },
   "file_extension": ".py",
   "mimetype": "text/x-python",
   "name": "python",
   "nbconvert_exporter": "python",
   "pygments_lexer": "ipython3",
   "version": "3.11.11"
  }
 },
 "nbformat": 4,
 "nbformat_minor": 5
}
